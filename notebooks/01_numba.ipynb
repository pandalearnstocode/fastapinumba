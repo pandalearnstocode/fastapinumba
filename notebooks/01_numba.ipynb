{
 "metadata": {
  "language_info": {
   "codemirror_mode": {
    "name": "ipython",
    "version": 3
   },
   "file_extension": ".py",
   "mimetype": "text/x-python",
   "name": "python",
   "nbconvert_exporter": "python",
   "pygments_lexer": "ipython3",
   "version": "3.8.5-final"
  },
  "orig_nbformat": 2,
  "kernelspec": {
   "name": "python3",
   "display_name": "Python 3",
   "language": "python"
  }
 },
 "nbformat": 4,
 "nbformat_minor": 2,
 "cells": [
  {
   "cell_type": "code",
   "execution_count": 10,
   "metadata": {},
   "outputs": [
    {
     "output_type": "stream",
     "name": "stderr",
     "text": [
      "2021-02-13 18:10:18.255 | INFO     | __main__:<module>:9 - Pandas version: 1.1.3\n",
      "2021-02-13 18:10:18.256 | INFO     | __main__:<module>:10 - Numpy version: 1.19.2\n",
      "2021-02-13 18:10:18.257 | INFO     | __main__:<module>:11 - Numba version: 2.7.1\n",
      "2021-02-13 18:10:18.258 | INFO     | __main__:<module>:12 - NumExpr version: 0.51.2\n",
      "2021-02-13 18:10:18.259 | INFO     | __main__:<module>:13 - SymPy version: 1.6.2\n",
      "2021-02-13 18:10:18.260 | INFO     | __main__:<module>:14 - SciPy version: 1.5.2\n"
     ]
    },
    {
     "output_type": "execute_result",
     "data": {
      "text/plain": [
       "array([147.38025 , 140.12262 ,        inf, ..., 132.44917 , 113.141205,\n",
       "       135.83322 ], dtype=float32)"
      ]
     },
     "metadata": {},
     "execution_count": 10
    }
   ],
   "source": [
    "# %%writefile core.py\n",
    "import numba as nb\n",
    "import pandas as pd\n",
    "import numpy as np\n",
    "from loguru import logger\n",
    "import numexpr as ne\n",
    "import sympy\n",
    "import scipy\n",
    "from math import * \n",
    "logger.info(f\"Pandas version: {pd.__version__}\")\n",
    "logger.info(f\"Numpy version: {np.__version__}\")\n",
    "logger.info(f\"Numba version: {ne.__version__}\")\n",
    "logger.info(f\"NumExpr version: {nb.__version__}\")\n",
    "logger.info(f\"SymPy version: {sympy.__version__}\")\n",
    "logger.info(f\"SciPy version: {scipy.__version__}\")\n",
    "\n",
    "def softplus_np(n):\n",
    "    x = np.random.uniform(50,150,size = n).astype(np.float32)\n",
    "    safe = x < 100\n",
    "    return np.log(1 + np.exp(x * safe)) * safe + x * (1-safe)\n",
    "\n",
    "def softplus_vec_wrap(n):\n",
    "    x = np.random.uniform(50,150,size = n).astype(np.float32)\n",
    "    @nb.vectorize('float32(float32)',target = \"parallel\")\n",
    "    def softplus_nb(x):\n",
    "        safe = x < 100\n",
    "        return log(1 + exp(x * safe)) * safe + x * (1-safe)\n",
    "    result = softplus_nb(x)\n",
    "    return result\n",
    "\n",
    "softplus_jit = nb.jit(softplus_np)\n",
    "softplus_njit = nb.njit(softplus_np)\n",
    "softplus_fastmath_njit = nb.njit(fastmath=True,parallel=True)(softplus_np)\n",
    "\n",
    "\n",
    "params = {\"n\":2000000}\n",
    "softplus_np(2000000)\n",
    "softplus_jit(2000000)\n",
    "softplus_njit(2000000)\n",
    "softplus_fastmath_njit(2000000)\n",
    "softplus_vec_wrap(**params)"
   ]
  },
  {
   "cell_type": "code",
   "execution_count": 11,
   "metadata": {},
   "outputs": [
    {
     "output_type": "stream",
     "name": "stdout",
     "text": [
      "CPU times: user 48.2 ms, sys: 12 ms, total: 60.3 ms\n",
      "Wall time: 59.4 ms\n",
      "CPU times: user 78.8 ms, sys: 3.92 ms, total: 82.7 ms\n",
      "Wall time: 82.4 ms\n",
      "CPU times: user 72.6 ms, sys: 23 µs, total: 72.6 ms\n",
      "Wall time: 72.1 ms\n",
      "CPU times: user 72.6 ms, sys: 265 µs, total: 72.9 ms\n",
      "Wall time: 26.3 ms\n",
      "CPU times: user 167 ms, sys: 0 ns, total: 167 ms\n",
      "Wall time: 129 ms\n"
     ]
    },
    {
     "output_type": "execute_result",
     "data": {
      "text/plain": [
       "array([146.32889, 112.83877,  72.02653, ..., 109.9768 , 100.81169,\n",
       "       148.04533], dtype=float32)"
      ]
     },
     "metadata": {},
     "execution_count": 11
    }
   ],
   "source": [
    "params = {\"n\":2000000}\n",
    "%time softplus_np(2000000)\n",
    "%time softplus_jit(2000000)\n",
    "%time softplus_njit(2000000)\n",
    "%time softplus_fastmath_njit(2000000)\n",
    "%time softplus_vec_wrap(**params)"
   ]
  },
  {
   "cell_type": "code",
   "execution_count": null,
   "metadata": {},
   "outputs": [],
   "source": []
  }
 ]
}