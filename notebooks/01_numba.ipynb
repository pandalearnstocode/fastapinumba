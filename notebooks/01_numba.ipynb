{
 "metadata": {
  "language_info": {
   "codemirror_mode": {
    "name": "ipython",
    "version": 3
   },
   "file_extension": ".py",
   "mimetype": "text/x-python",
   "name": "python",
   "nbconvert_exporter": "python",
   "pygments_lexer": "ipython3",
   "version": "3.8.3-final"
  },
  "orig_nbformat": 2,
  "kernelspec": {
   "name": "python3",
   "display_name": "Python 3",
   "language": "python"
  }
 },
 "nbformat": 4,
 "nbformat_minor": 2,
 "cells": [
  {
   "cell_type": "code",
   "execution_count": 1,
   "metadata": {},
   "outputs": [
    {
     "output_type": "stream",
     "name": "stderr",
     "text": [
      "2021-02-13 14:02:17.088 | INFO     | __main__:<module>:9 - Pandas version: 1.1.4\n",
      "2021-02-13 14:02:17.093 | INFO     | __main__:<module>:10 - Numpy version: 1.18.5\n",
      "2021-02-13 14:02:17.097 | INFO     | __main__:<module>:11 - Numba version: 2.7.1\n",
      "2021-02-13 14:02:17.100 | INFO     | __main__:<module>:12 - NumExpr version: 0.50.1\n",
      "2021-02-13 14:02:17.110 | INFO     | __main__:<module>:13 - SymPy version: 1.6.1\n",
      "2021-02-13 14:02:17.115 | INFO     | __main__:<module>:14 - SciPy version: 1.5.0\n"
     ]
    }
   ],
   "source": [
    "# %%writefile core.py\n",
    "import numba as nb\n",
    "import pandas as pd\n",
    "import numpy as np\n",
    "from loguru import logger\n",
    "import numexpr as ne\n",
    "import sympy\n",
    "import scipy\n",
    "from math import * \n",
    "logger.info(f\"Pandas version: {pd.__version__}\")\n",
    "logger.info(f\"Numpy version: {np.__version__}\")\n",
    "logger.info(f\"Numba version: {ne.__version__}\")\n",
    "logger.info(f\"NumExpr version: {nb.__version__}\")\n",
    "logger.info(f\"SymPy version: {sympy.__version__}\")\n",
    "logger.info(f\"SciPy version: {scipy.__version__}\")\n",
    "\n",
    "def softplus_np(n):\n",
    "    x = np.random.uniform(50,150,size = n).astype(np.float32)\n",
    "    safe = x < 100\n",
    "    return np.log(1 + np.exp(x * safe)) * safe + x * (1-safe)\n",
    "\n",
    "def softplus_vec_wrap(n):\n",
    "    x = np.random.uniform(50,150,size = n).astype(np.float32)\n",
    "    @nb.vectorize('float32(float32)',target = \"parallel\")\n",
    "    def softplus_nb(x):\n",
    "        safe = x < 100\n",
    "        return log(1 + exp(x * safe)) * safe + x * (1-safe)\n",
    "    result = softplus_nb(x)\n",
    "    return result\n",
    "\n",
    "softplus_jit = nb.jit(softplus_np)\n",
    "softplus_njit = nb.njit(softplus_np)\n",
    "softplus_fastmath_njit = nb.njit(fastmath=True,parallel=True)(softplus_np)"
   ]
  },
  {
   "cell_type": "code",
   "execution_count": 3,
   "metadata": {},
   "outputs": [
    {
     "output_type": "stream",
     "name": "stdout",
     "text": [
      "Wall time: 221 ms\n",
      "Wall time: 126 ms\n",
      "Wall time: 136 ms\n",
      "Wall time: 38.8 ms\n",
      "Wall time: 274 ms\n"
     ]
    },
    {
     "output_type": "execute_result",
     "data": {
      "text/plain": [
       "array([ 71.49738 , 110.246956,  74.97696 , ..., 135.8275  , 147.74281 ,\n",
       "        74.883194], dtype=float32)"
      ]
     },
     "metadata": {},
     "execution_count": 3
    }
   ],
   "source": [
    "params = {\"n\":2000000}\n",
    "%time softplus_np(2000000)\n",
    "%time softplus_jit(2000000)\n",
    "%time softplus_njit(2000000)\n",
    "%time softplus_fastmath_njit(2000000)\n",
    "%time softplus_vec_wrap(**params)"
   ]
  },
  {
   "cell_type": "code",
   "execution_count": 131,
   "metadata": {},
   "outputs": [],
   "source": [
    "# @np.vectorize\n",
    "# def softplus(x):\n",
    "#     safe = x < 100\n",
    "#     return log(1 + exp(x * safe)) * safe + x * (1-safe)\n",
    "\n",
    "# @nb.vectorize('float32(float32)',target = \"parallel\")\n",
    "# def softplus_nb(x):\n",
    "#     safe = x < 100\n",
    "#     return log(1 + exp(x * safe)) * safe + x * (1-safe)\n",
    "\n",
    "\n"
   ]
  },
  {
   "cell_type": "code",
   "execution_count": 133,
   "metadata": {},
   "outputs": [
    {
     "output_type": "execute_result",
     "data": {
      "text/plain": [
       "array([113.215385,  73.7463  ,        inf,        inf, 118.672295,\n",
       "       111.823944,  58.091507, 137.9336  ,  60.522278, 130.74448 ,\n",
       "        71.602715, 107.65229 , 133.45897 ,        inf, 127.560646,\n",
       "              inf,        inf, 115.60619 ,  70.40927 , 102.02923 ],\n",
       "      dtype=float32)"
      ]
     },
     "metadata": {},
     "execution_count": 133
    }
   ],
   "source": []
  },
  {
   "cell_type": "code",
   "execution_count": null,
   "metadata": {},
   "outputs": [],
   "source": []
  }
 ]
}