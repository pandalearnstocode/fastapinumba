{
 "metadata": {
  "language_info": {
   "codemirror_mode": {
    "name": "ipython",
    "version": 3
   },
   "file_extension": ".py",
   "mimetype": "text/x-python",
   "name": "python",
   "nbconvert_exporter": "python",
   "pygments_lexer": "ipython3",
   "version": "3.8.5-final"
  },
  "orig_nbformat": 2,
  "kernelspec": {
   "name": "python3",
   "display_name": "Python 3",
   "language": "python"
  }
 },
 "nbformat": 4,
 "nbformat_minor": 2,
 "cells": [
  {
   "cell_type": "code",
   "execution_count": 1,
   "metadata": {},
   "outputs": [
    {
     "output_type": "stream",
     "name": "stderr",
     "text": [
      "2021-02-13 23:19:14.528 | INFO     | __main__:<module>:9 - Pandas version: 1.1.3\n",
      "2021-02-13 23:19:14.529 | INFO     | __main__:<module>:10 - Numpy version: 1.19.2\n",
      "2021-02-13 23:19:14.529 | INFO     | __main__:<module>:11 - Numba version: 2.7.1\n",
      "2021-02-13 23:19:14.530 | INFO     | __main__:<module>:12 - NumExpr version: 0.51.2\n",
      "2021-02-13 23:19:14.531 | INFO     | __main__:<module>:13 - SymPy version: 1.6.2\n",
      "2021-02-13 23:19:14.531 | INFO     | __main__:<module>:14 - SciPy version: 1.5.2\n"
     ]
    },
    {
     "output_type": "execute_result",
     "data": {
      "text/plain": [
       "array([       inf, 132.48325 ,  57.475784, ..., 147.9508  , 142.56227 ,\n",
       "        59.351612], dtype=float32)"
      ]
     },
     "metadata": {},
     "execution_count": 1
    }
   ],
   "source": [
    "# %%writefile core.py\n",
    "import numba as nb\n",
    "import pandas as pd\n",
    "import numpy as np\n",
    "from loguru import logger\n",
    "import numexpr as ne\n",
    "import sympy\n",
    "import scipy\n",
    "from math import * \n",
    "logger.info(f\"Pandas version: {pd.__version__}\")\n",
    "logger.info(f\"Numpy version: {np.__version__}\")\n",
    "logger.info(f\"Numba version: {ne.__version__}\")\n",
    "logger.info(f\"NumExpr version: {nb.__version__}\")\n",
    "logger.info(f\"SymPy version: {sympy.__version__}\")\n",
    "logger.info(f\"SciPy version: {scipy.__version__}\")\n",
    "\n",
    "def softplus_np(n):\n",
    "    x = np.random.uniform(50,150,size = n).astype(np.float32)\n",
    "    safe = x < 100\n",
    "    return np.log(1 + np.exp(x * safe)) * safe + x * (1-safe)\n",
    "\n",
    "def softplus_vec_wrap(n):\n",
    "    x = np.random.uniform(50,150,size = n).astype(np.float32)\n",
    "    @nb.vectorize('float32(float32)',target = \"parallel\")\n",
    "    def softplus_nb(x):\n",
    "        safe = x < 100\n",
    "        return log(1 + exp(x * safe)) * safe + x * (1-safe)\n",
    "    result = softplus_nb(x)\n",
    "    return result\n",
    "\n",
    "softplus_jit = nb.jit(softplus_np)\n",
    "softplus_njit = nb.njit(softplus_np)\n",
    "softplus_fastmath_njit = nb.njit(fastmath=True,parallel=True)(softplus_np)\n",
    "\n",
    "\n",
    "params = {\"n\":2000000}\n",
    "softplus_np(2000000)\n",
    "softplus_jit(2000000)\n",
    "softplus_njit(2000000)\n",
    "softplus_fastmath_njit(2000000)\n",
    "softplus_vec_wrap(**params)"
   ]
  },
  {
   "cell_type": "code",
   "execution_count": 2,
   "metadata": {},
   "outputs": [
    {
     "output_type": "execute_result",
     "data": {
      "text/plain": [
       "array([ 86.61716 , 120.140205,  87.69763 , ..., 113.67941 ,  84.62143 ,\n",
       "        83.52594 ], dtype=float32)"
      ]
     },
     "metadata": {},
     "execution_count": 2
    }
   ],
   "source": [
    "params = {\"n\":2000000}\n",
    "softplus_np(2000000)\n",
    "softplus_jit(2000000)\n",
    "softplus_njit(2000000)\n",
    "softplus_fastmath_njit(2000000)\n",
    "softplus_vec_wrap(**params)"
   ]
  },
  {
   "cell_type": "code",
   "execution_count": null,
   "metadata": {},
   "outputs": [],
   "source": []
  },
  {
   "cell_type": "code",
   "execution_count": null,
   "metadata": {},
   "outputs": [],
   "source": []
  }
 ]
}