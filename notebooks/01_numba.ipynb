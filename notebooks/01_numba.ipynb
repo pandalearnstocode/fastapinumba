{
 "metadata": {
  "language_info": {
   "codemirror_mode": {
    "name": "ipython",
    "version": 3
   },
   "file_extension": ".py",
   "mimetype": "text/x-python",
   "name": "python",
   "nbconvert_exporter": "python",
   "pygments_lexer": "ipython3",
   "version": "3.8.5-final"
  },
  "orig_nbformat": 2,
  "kernelspec": {
   "name": "python3",
   "display_name": "Python 3",
   "language": "python"
  }
 },
 "nbformat": 4,
 "nbformat_minor": 2,
 "cells": [
  {
   "cell_type": "code",
   "execution_count": null,
   "metadata": {},
   "outputs": [],
   "source": [
    "# %%writefile core.py\n",
    "import numba as nb\n",
    "import pandas as pd\n",
    "import numpy as np\n",
    "from loguru import logger\n",
    "import numexpr as ne\n",
    "import sympy\n",
    "import scipy\n",
    "from math import * \n",
    "logger.info(f\"Pandas version: {pd.__version__}\")\n",
    "logger.info(f\"Numpy version: {np.__version__}\")\n",
    "logger.info(f\"Numba version: {ne.__version__}\")\n",
    "logger.info(f\"NumExpr version: {nb.__version__}\")\n",
    "logger.info(f\"SymPy version: {sympy.__version__}\")\n",
    "logger.info(f\"SciPy version: {scipy.__version__}\")\n",
    "\n",
    "def softplus_np(n):\n",
    "    x = np.random.uniform(50,150,size = n).astype(np.float32)\n",
    "    safe = x < 100\n",
    "    return np.log(1 + np.exp(x * safe)) * safe + x * (1-safe)\n",
    "\n",
    "def softplus_vec_wrap(n):\n",
    "    x = np.random.uniform(50,150,size = n).astype(np.float32)\n",
    "    @nb.vectorize('float32(float32)',target = \"parallel\")\n",
    "    def softplus_nb(x):\n",
    "        safe = x < 100\n",
    "        return log(1 + exp(x * safe)) * safe + x * (1-safe)\n",
    "    result = softplus_nb(x)\n",
    "    return result\n",
    "\n",
    "softplus_jit = nb.jit(softplus_np)\n",
    "softplus_njit = nb.njit(softplus_np)\n",
    "softplus_fastmath_njit = nb.njit(fastmath=True,parallel=True)(softplus_np)\n",
    "\n",
    "\n",
    "params = {\"n\":2000000}\n",
    "softplus_np(2000000)\n",
    "softplus_jit(2000000)\n",
    "softplus_njit(2000000)\n",
    "softplus_fastmath_njit(2000000)\n",
    "softplus_vec_wrap(**params)"
   ]
  },
  {
   "cell_type": "code",
   "execution_count": null,
   "metadata": {},
   "outputs": [],
   "source": [
    "params = {\"n\":2000000}\n",
    "softplus_np(2000000)\n",
    "softplus_jit(2000000)\n",
    "softplus_njit(2000000)\n",
    "softplus_fastmath_njit(2000000)\n",
    "softplus_vec_wrap(**params)"
   ]
  },
  {
   "cell_type": "code",
   "execution_count": null,
   "metadata": {},
   "outputs": [],
   "source": []
  },
  {
   "cell_type": "code",
   "execution_count": null,
   "metadata": {},
   "outputs": [],
   "source": []
  }
 ]
}